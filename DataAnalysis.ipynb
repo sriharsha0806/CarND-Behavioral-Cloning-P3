{
 "cells": [
  {
   "cell_type": "code",
   "execution_count": 2,
   "metadata": {
    "collapsed": false,
    "deletable": true,
    "editable": true
   },
   "outputs": [
    {
     "name": "stderr",
     "output_type": "stream",
     "text": [
      "Using TensorFlow backend.\n"
     ]
    }
   ],
   "source": [
    "import cv2\n",
    "import os\n",
    "import csv\n",
    "import numpy as np\n",
    "from keras.models import Sequential\n",
    "from keras.layers.convolutional import Convolution2D\n",
    "from keras.layers.core import Dense, Activation, Flatten, Dropout, Lambda \n",
    "from keras.layers.pooling import MaxPooling2D\n",
    "from keras.layers.advanced_activations import ELU\n",
    "from keras.optimizers import Adam \n",
    "from keras.regularizers import l2\n",
    "import keras.backend as K\n",
    "from matplotlib import pyplot as plt\n",
    "from matplotlib import gridspec as gridspec\n",
    "import pandas as pd\n",
    "%matplotlib inline"
   ]
  },
  {
   "cell_type": "code",
   "execution_count": 3,
   "metadata": {
    "collapsed": false,
    "deletable": true,
    "editable": true
   },
   "outputs": [
    {
     "data": {
      "image/png": "[encoded data removed]",
      "text/plain": [
       "<matplotlib.figure.Figure at 0x7f6ee6339e10>"
      ]
     },
     "metadata": {},
     "output_type": "display_data"
    }
   ],
   "source": [
    "PATH='data/driving_log.csv'\n",
    "with open(PATH) as driving_log_file:\n",
    "    driving_log_reader = csv.DictReader(driving_log_file)\n",
    "    steering_angles = [float(row['steering']) for row in driving_log_reader]\n",
    "    plt.figure(figsize=(12,4))\n",
    "    plt.bar(range(len(steering_angles)), steering_angles)\n",
    "    plt.show()\n",
    "    \n",
    "\n",
    "\n"
   ]
  },
  {
   "cell_type": "code",
   "execution_count": 5,
   "metadata": {
    "collapsed": false,
    "deletable": true,
    "editable": true
   },
   "outputs": [
    {
     "data": {
      "text/html": [
       "<div>\n",
       "<table border=\"1\" class=\"dataframe\">\n",
       "  <thead>\n",
       "    <tr style=\"text-align: right;\">\n",
       "      <th></th>\n",
       "      <th>center</th>\n",
       "      <th>left</th>\n",
       "      <th>right</th>\n",
       "      <th>steering</th>\n",
       "      <th>throttle</th>\n",
       "      <th>brake</th>\n",
       "      <th>speed</th>\n",
       "    </tr>\n",
       "  </thead>\n",
       "  <tbody>\n",
       "    <tr>\n",
       "      <th>0</th>\n",
       "      <td>center</td>\n",
       "      <td>left</td>\n",
       "      <td>right</td>\n",
       "      <td>steering</td>\n",
       "      <td>throttle</td>\n",
       "      <td>brake</td>\n",
       "      <td>speed</td>\n",
       "    </tr>\n",
       "    <tr>\n",
       "      <th>1</th>\n",
       "      <td>IMG/center_2016_12_01_13_30_48_287.jpg</td>\n",
       "      <td>IMG/left_2016_12_01_13_30_48_287.jpg</td>\n",
       "      <td>IMG/right_2016_12_01_13_30_48_287.jpg</td>\n",
       "      <td>0</td>\n",
       "      <td>0</td>\n",
       "      <td>0</td>\n",
       "      <td>22.14829</td>\n",
       "    </tr>\n",
       "    <tr>\n",
       "      <th>2</th>\n",
       "      <td>IMG/center_2016_12_01_13_30_48_404.jpg</td>\n",
       "      <td>IMG/left_2016_12_01_13_30_48_404.jpg</td>\n",
       "      <td>IMG/right_2016_12_01_13_30_48_404.jpg</td>\n",
       "      <td>0</td>\n",
       "      <td>0</td>\n",
       "      <td>0</td>\n",
       "      <td>21.87963</td>\n",
       "    </tr>\n",
       "    <tr>\n",
       "      <th>3</th>\n",
       "      <td>IMG/center_2016_12_01_13_31_12_937.jpg</td>\n",
       "      <td>IMG/left_2016_12_01_13_31_12_937.jpg</td>\n",
       "      <td>IMG/right_2016_12_01_13_31_12_937.jpg</td>\n",
       "      <td>0</td>\n",
       "      <td>0</td>\n",
       "      <td>0</td>\n",
       "      <td>1.453011</td>\n",
       "    </tr>\n",
       "    <tr>\n",
       "      <th>4</th>\n",
       "      <td>IMG/center_2016_12_01_13_31_13_037.jpg</td>\n",
       "      <td>IMG/left_2016_12_01_13_31_13_037.jpg</td>\n",
       "      <td>IMG/right_2016_12_01_13_31_13_037.jpg</td>\n",
       "      <td>0</td>\n",
       "      <td>0</td>\n",
       "      <td>0</td>\n",
       "      <td>1.438419</td>\n",
       "    </tr>\n",
       "    <tr>\n",
       "      <th>5</th>\n",
       "      <td>IMG/center_2016_12_01_13_31_13_177.jpg</td>\n",
       "      <td>IMG/left_2016_12_01_13_31_13_177.jpg</td>\n",
       "      <td>IMG/right_2016_12_01_13_31_13_177.jpg</td>\n",
       "      <td>0</td>\n",
       "      <td>0</td>\n",
       "      <td>0</td>\n",
       "      <td>1.418236</td>\n",
       "    </tr>\n",
       "    <tr>\n",
       "      <th>6</th>\n",
       "      <td>IMG/center_2016_12_01_13_31_13_279.jpg</td>\n",
       "      <td>IMG/left_2016_12_01_13_31_13_279.jpg</td>\n",
       "      <td>IMG/right_2016_12_01_13_31_13_279.jpg</td>\n",
       "      <td>0</td>\n",
       "      <td>0</td>\n",
       "      <td>0</td>\n",
       "      <td>1.403993</td>\n",
       "    </tr>\n",
       "    <tr>\n",
       "      <th>7</th>\n",
       "      <td>IMG/center_2016_12_01_13_31_13_381.jpg</td>\n",
       "      <td>IMG/left_2016_12_01_13_31_13_381.jpg</td>\n",
       "      <td>IMG/right_2016_12_01_13_31_13_381.jpg</td>\n",
       "      <td>0</td>\n",
       "      <td>0</td>\n",
       "      <td>0</td>\n",
       "      <td>1.389892</td>\n",
       "    </tr>\n",
       "    <tr>\n",
       "      <th>8</th>\n",
       "      <td>IMG/center_2016_12_01_13_31_13_482.jpg</td>\n",
       "      <td>IMG/left_2016_12_01_13_31_13_482.jpg</td>\n",
       "      <td>IMG/right_2016_12_01_13_31_13_482.jpg</td>\n",
       "      <td>0</td>\n",
       "      <td>0</td>\n",
       "      <td>0</td>\n",
       "      <td>1.375934</td>\n",
       "    </tr>\n",
       "    <tr>\n",
       "      <th>9</th>\n",
       "      <td>IMG/center_2016_12_01_13_31_13_584.jpg</td>\n",
       "      <td>IMG/left_2016_12_01_13_31_13_584.jpg</td>\n",
       "      <td>IMG/right_2016_12_01_13_31_13_584.jpg</td>\n",
       "      <td>0</td>\n",
       "      <td>0</td>\n",
       "      <td>0</td>\n",
       "      <td>1.362115</td>\n",
       "    </tr>\n",
       "  </tbody>\n",
       "</table>\n",
       "</div>"
      ],
      "text/plain": [
       "                                   center  \\\n",
       "0                                  center   \n",
       "1  IMG/center_2016_12_01_13_30_48_287.jpg   \n",
       "2  IMG/center_2016_12_01_13_30_48_404.jpg   \n",
       "3  IMG/center_2016_12_01_13_31_12_937.jpg   \n",
       "4  IMG/center_2016_12_01_13_31_13_037.jpg   \n",
       "5  IMG/center_2016_12_01_13_31_13_177.jpg   \n",
       "6  IMG/center_2016_12_01_13_31_13_279.jpg   \n",
       "7  IMG/center_2016_12_01_13_31_13_381.jpg   \n",
       "8  IMG/center_2016_12_01_13_31_13_482.jpg   \n",
       "9  IMG/center_2016_12_01_13_31_13_584.jpg   \n",
       "\n",
       "                                    left  \\\n",
       "0                                   left   \n",
       "1   IMG/left_2016_12_01_13_30_48_287.jpg   \n",
       "2   IMG/left_2016_12_01_13_30_48_404.jpg   \n",
       "3   IMG/left_2016_12_01_13_31_12_937.jpg   \n",
       "4   IMG/left_2016_12_01_13_31_13_037.jpg   \n",
       "5   IMG/left_2016_12_01_13_31_13_177.jpg   \n",
       "6   IMG/left_2016_12_01_13_31_13_279.jpg   \n",
       "7   IMG/left_2016_12_01_13_31_13_381.jpg   \n",
       "8   IMG/left_2016_12_01_13_31_13_482.jpg   \n",
       "9   IMG/left_2016_12_01_13_31_13_584.jpg   \n",
       "\n",
       "                                    right  steering  throttle  brake  \\\n",
       "0                                   right  steering  throttle  brake   \n",
       "1   IMG/right_2016_12_01_13_30_48_287.jpg         0         0      0   \n",
       "2   IMG/right_2016_12_01_13_30_48_404.jpg         0         0      0   \n",
       "3   IMG/right_2016_12_01_13_31_12_937.jpg         0         0      0   \n",
       "4   IMG/right_2016_12_01_13_31_13_037.jpg         0         0      0   \n",
       "5   IMG/right_2016_12_01_13_31_13_177.jpg         0         0      0   \n",
       "6   IMG/right_2016_12_01_13_31_13_279.jpg         0         0      0   \n",
       "7   IMG/right_2016_12_01_13_31_13_381.jpg         0         0      0   \n",
       "8   IMG/right_2016_12_01_13_31_13_482.jpg         0         0      0   \n",
       "9   IMG/right_2016_12_01_13_31_13_584.jpg         0         0      0   \n",
       "\n",
       "       speed  \n",
       "0      speed  \n",
       "1   22.14829  \n",
       "2   21.87963  \n",
       "3   1.453011  \n",
       "4   1.438419  \n",
       "5   1.418236  \n",
       "6   1.403993  \n",
       "7   1.389892  \n",
       "8   1.375934  \n",
       "9   1.362115  "
      ]
     },
     "execution_count": 5,
     "metadata": {},
     "output_type": "execute_result"
    }
   ],
   "source": [
    "column_names = ['center','left','right','steering','throttle','brake','speed']\n",
    "data_df = pd.read_csv(PATH, names =column_names)\n",
    "data_df.iloc[:10]"
   ]
  },
  {
   "cell_type": "code",
   "execution_count": 13,
   "metadata": {
    "collapsed": false,
    "deletable": true,
    "editable": true
   },
   "outputs": [
    {
     "data": {
      "text/plain": [
       "count     8037\n",
       "unique     125\n",
       "top          0\n",
       "freq      4361\n",
       "Name: steering, dtype: object"
      ]
     },
     "execution_count": 13,
     "metadata": {},
     "output_type": "execute_result"
    }
   ],
   "source": [
    "data_df['steering'].describe()"
   ]
  },
  {
   "cell_type": "code",
   "execution_count": 15,
   "metadata": {
    "collapsed": false,
    "deletable": true,
    "editable": true
   },
   "outputs": [
    {
     "data": {
      "text/plain": [
       " 0             8003\n",
       " 1                5\n",
       " 0.4140807        3\n",
       " 0.3269387        3\n",
       " 0.3947159        2\n",
       " 0.2688441        2\n",
       " 0.4334456        2\n",
       " 0.5109052        1\n",
       " 0.6174121        1\n",
       " 0.3366212        1\n",
       " 0.9853449        1\n",
       " 0.2204319        1\n",
       " 0.7723312        1\n",
       "brake             1\n",
       " 0.375351         1\n",
       " 0.02678302       1\n",
       " 0.8110609        1\n",
       " 0.03646546       1\n",
       " 0.1913846        1\n",
       " 0.07519523       1\n",
       " 0.8207434        1\n",
       " 0.0461479        1\n",
       " 0.1429723        1\n",
       " 0.4431281        1\n",
       "Name: brake, dtype: int64"
      ]
     },
     "execution_count": 15,
     "metadata": {},
     "output_type": "execute_result"
    }
   ],
   "source": [
    "data_df['brake'].value_counts()"
   ]
  },
  {
   "cell_type": "code",
   "execution_count": null,
   "metadata": {
    "collapsed": true
   },
   "outputs": [],
   "source": []
  },
  {
   "cell_type": "code",
   "execution_count": 5,
   "metadata": {
    "collapsed": false,
    "deletable": true,
    "editable": true,
    "scrolled": false
   },
   "outputs": [
    {
     "name": "stdout",
     "output_type": "stream",
     "text": [
      "____________________________________________________________________________________________________\n",
      "Layer (type)                     Output Shape          Param #     Connected to                     \n",
      "====================================================================================================\n",
      "lambda_1 (Lambda)                (None, 66, 220, 3)    0           lambda_input_1[0][0]             \n",
      "____________________________________________________________________________________________________\n",
      "convolution2d_1 (Convolution2D)  (None, 31, 108, 24)   1824        lambda_1[0][0]                   \n",
      "____________________________________________________________________________________________________\n",
      "elu_1 (ELU)                      (None, 31, 108, 24)   0           convolution2d_1[0][0]            \n",
      "____________________________________________________________________________________________________\n",
      "convolution2d_2 (Convolution2D)  (None, 14, 52, 36)    21636       elu_1[0][0]                      \n",
      "____________________________________________________________________________________________________\n",
      "elu_2 (ELU)                      (None, 14, 52, 36)    0           convolution2d_2[0][0]            \n",
      "____________________________________________________________________________________________________\n",
      "convolution2d_3 (Convolution2D)  (None, 5, 24, 48)     43248       elu_2[0][0]                      \n",
      "____________________________________________________________________________________________________\n",
      "elu_3 (ELU)                      (None, 5, 24, 48)     0           convolution2d_3[0][0]            \n",
      "____________________________________________________________________________________________________\n",
      "convolution2d_4 (Convolution2D)  (None, 3, 22, 64)     27712       elu_3[0][0]                      \n",
      "____________________________________________________________________________________________________\n",
      "elu_4 (ELU)                      (None, 3, 22, 64)     0           convolution2d_4[0][0]            \n",
      "____________________________________________________________________________________________________\n",
      "convolution2d_5 (Convolution2D)  (None, 1, 20, 64)     36928       elu_4[0][0]                      \n",
      "____________________________________________________________________________________________________\n",
      "elu_5 (ELU)                      (None, 1, 20, 64)     0           convolution2d_5[0][0]            \n",
      "____________________________________________________________________________________________________\n",
      "flatten_1 (Flatten)              (None, 1280)          0           elu_5[0][0]                      \n",
      "____________________________________________________________________________________________________\n",
      "dropout_1 (Dropout)              (None, 1280)          0           flatten_1[0][0]                  \n",
      "____________________________________________________________________________________________________\n",
      "dense_1 (Dense)                  (None, 100)           128100      dropout_1[0][0]                  \n",
      "____________________________________________________________________________________________________\n",
      "elu_6 (ELU)                      (None, 100)           0           dense_1[0][0]                    \n",
      "____________________________________________________________________________________________________\n",
      "dropout_2 (Dropout)              (None, 100)           0           elu_6[0][0]                      \n",
      "____________________________________________________________________________________________________\n",
      "dense_2 (Dense)                  (None, 50)            5050        dropout_2[0][0]                  \n",
      "____________________________________________________________________________________________________\n",
      "elu_7 (ELU)                      (None, 50)            0           dense_2[0][0]                    \n",
      "____________________________________________________________________________________________________\n",
      "dropout_3 (Dropout)              (None, 50)            0           elu_7[0][0]                      \n",
      "____________________________________________________________________________________________________\n",
      "dense_3 (Dense)                  (None, 10)            510         dropout_3[0][0]                  \n",
      "____________________________________________________________________________________________________\n",
      "elu_8 (ELU)                      (None, 10)            0           dense_3[0][0]                    \n",
      "____________________________________________________________________________________________________\n",
      "dropout_4 (Dropout)              (None, 10)            0           elu_8[0][0]                      \n",
      "____________________________________________________________________________________________________\n",
      "elu_9 (ELU)                      (None, 10)            0           dropout_4[0][0]                  \n",
      "____________________________________________________________________________________________________\n",
      "dense_4 (Dense)                  (None, 1)             11          elu_9[0][0]                      \n",
      "====================================================================================================\n",
      "Total params: 265,019\n",
      "Trainable params: 265,019\n",
      "Non-trainable params: 0\n",
      "____________________________________________________________________________________________________\n"
     ]
    }
   ],
   "source": [
    "def get_nvidia_model(summary=True):\n",
    "    model = Sequential()\n",
    "    model.add(Lambda(lambda x: x/255.0-0.5,input_shape=(66,220,3)))\n",
    "    model.add(Convolution2D(24,5,5, subsample=(2,2), border_mode='valid', W_regularizer=l2(0.001)))\n",
    "    model.add(ELU())\n",
    "    model.add(Convolution2D(36,5,5, subsample=(2,2), border_mode='valid', W_regularizer=l2(0.001)))\n",
    "    model.add(ELU())\n",
    "    model.add(Convolution2D(48,5,5, subsample=(2,2), border_mode='valid', W_regularizer=l2(0.001)))\n",
    "    model.add(ELU())\n",
    "    model.add(Convolution2D(64,3,3, border_mode='valid', W_regularizer=l2(0.001)))\n",
    "    model.add(ELU())\n",
    "    model.add(Convolution2D(64,3,3, border_mode='valid', W_regularizer=l2(0.001)))\n",
    "    model.add(ELU())\n",
    "    model.add(Flatten())\n",
    "    model.add(Dropout(0.2))\n",
    "    model.add(Dense(100, W_regularizer=l2(0.001)))\n",
    "    model.add(ELU())\n",
    "    model.add(Dropout(0.2))\n",
    "    model.add(Dense(50, W_regularizer=l2(0.001)))\n",
    "    model.add(ELU())\n",
    "    model.add(Dropout(0.2))\n",
    "    model.add(Dense(10, W_regularizer=l2(0.001)))\n",
    "    model.add(ELU())\n",
    "    model.add(Dropout(0.5))\n",
    "    model.add(ELU())\n",
    "    model.add(Dense(1))\n",
    "    if summary:\n",
    "        model.summary()\n",
    "    return model\n",
    "model = get_nvidia_model(summary=True)"
   ]
  },
  {
   "cell_type": "code",
   "execution_count": 6,
   "metadata": {
    "collapsed": false,
    "deletable": true,
    "editable": true
   },
   "outputs": [
    {
     "name": "stdout",
     "output_type": "stream",
     "text": [
      "____________________________________________________________________________________________________\n",
      "Layer (type)                     Output Shape          Param #     Connected to                     \n",
      "====================================================================================================\n",
      "lambda_2 (Lambda)                (None, 160, 320, 3)   0           lambda_input_2[0][0]             \n",
      "____________________________________________________________________________________________________\n",
      "convolution2d_6 (Convolution2D)  (None, 40, 80, 16)    3088        lambda_2[0][0]                   \n",
      "____________________________________________________________________________________________________\n",
      "elu_10 (ELU)                     (None, 40, 80, 16)    0           convolution2d_6[0][0]            \n",
      "____________________________________________________________________________________________________\n",
      "convolution2d_7 (Convolution2D)  (None, 20, 40, 32)    12832       elu_10[0][0]                     \n",
      "____________________________________________________________________________________________________\n",
      "elu_11 (ELU)                     (None, 20, 40, 32)    0           convolution2d_7[0][0]            \n",
      "____________________________________________________________________________________________________\n",
      "convolution2d_8 (Convolution2D)  (None, 10, 20, 64)    51264       elu_11[0][0]                     \n",
      "____________________________________________________________________________________________________\n",
      "flatten_2 (Flatten)              (None, 12800)         0           convolution2d_8[0][0]            \n",
      "____________________________________________________________________________________________________\n",
      "dropout_5 (Dropout)              (None, 12800)         0           flatten_2[0][0]                  \n",
      "____________________________________________________________________________________________________\n",
      "elu_12 (ELU)                     (None, 12800)         0           dropout_5[0][0]                  \n",
      "____________________________________________________________________________________________________\n",
      "dense_5 (Dense)                  (None, 512)           6554112     elu_12[0][0]                     \n",
      "____________________________________________________________________________________________________\n",
      "dropout_6 (Dropout)              (None, 512)           0           dense_5[0][0]                    \n",
      "____________________________________________________________________________________________________\n",
      "elu_13 (ELU)                     (None, 512)           0           dropout_6[0][0]                  \n",
      "____________________________________________________________________________________________________\n",
      "dense_6 (Dense)                  (None, 1)             513         elu_13[0][0]                     \n",
      "====================================================================================================\n",
      "Total params: 6,621,809\n",
      "Trainable params: 6,621,809\n",
      "Non-trainable params: 0\n",
      "____________________________________________________________________________________________________\n"
     ]
    }
   ],
   "source": [
    "def comma_ai_model(summary=True):\n",
    "    ch, row, col = 3, 160, 320\n",
    "    model = Sequential()\n",
    "    model.add(Lambda(lambda x : x/255.0-0.5, input_shape=(row,col,ch)))\n",
    "    model.add(Convolution2D(16,8,8, subsample=(4,4), border_mode=\"same\"))\n",
    "    model.add(ELU())\n",
    "    model.add(Convolution2D(32,5,5, subsample=(2,2), border_mode=\"same\"))\n",
    "    model.add(ELU())\n",
    "    model.add(Convolution2D(64,5,5, subsample=(2,2), border_mode=\"same\"))\n",
    "    model.add(Flatten())\n",
    "    model.add(Dropout(.2))\n",
    "    model.add(ELU())\n",
    "    model.add(Dense(512))\n",
    "    model.add(Dropout(.5))\n",
    "    model.add(ELU())\n",
    "    model.add(Dense(1))\n",
    "    if summary:\n",
    "        model.summary()\n",
    "    return model\n",
    "model = comma_ai_model(summary=True)"
   ]
  },
  {
   "cell_type": "code",
   "execution_count": null,
   "metadata": {
    "collapsed": true
   },
   "outputs": [],
   "source": []
  }
 ],
 "metadata": {
  "kernelspec": {
   "display_name": "Python 3",
   "language": "python",
   "name": "python3"
  },
  "language_info": {
   "codemirror_mode": {
    "name": "ipython",
    "version": 3
   },
   "file_extension": ".py",
   "mimetype": "text/x-python",
   "name": "python",
   "nbconvert_exporter": "python",
   "pygments_lexer": "ipython3",
   "version": "3.5.2"
  },
  "widgets": {
   "state": {},
   "version": "1.1.2"
  }
 },
 "nbformat": 4,
 "nbformat_minor": 2
}
